{
 "cells": [
  {
   "cell_type": "code",
   "execution_count": null,
   "id": "initial_id",
   "metadata": {
    "collapsed": true
   },
   "outputs": [],
   "source": [
    "import torch\n",
    "from typing import NamedTuple\n",
    "model = torch.hub.load('facebookresearch/detr',\n",
    "                       'detr_resnet50',\n",
    "                       pretrained=True,\n",
    "                       num_classes=91)\n",
    "\n",
    "model.eval()\n",
    "dummy_input = torch.randn(1, 3, 800, 800) \n",
    "\n",
    "class DETROutput(NamedTuple):\n",
    "    pred_logits: torch.Tensor\n",
    "    pred_boxes: torch.Tensor\n",
    "\n",
    "class DETRTracedWrapper(torch.nn.Module):\n",
    "    def __init__(self, model):\n",
    "        super(DETRTracedWrapper, self).__init__()\n",
    "        self.model = model\n",
    "\n",
    "    def forward(self, x):\n",
    "        outputs = self.model(x)\n",
    "        return DETROutput(outputs[\"pred_logits\"], outputs[\"pred_boxes\"])\n",
    "\n",
    "wrapped_model = DETRTracedWrapper(model)\n",
    "\n",
    "traced_model = torch.jit.trace(wrapped_model, dummy_input)\n",
    "traced_model.save(\"detr_traced.pt\")\n",
    "\n",
    "class DETROnnxWrapper(torch.nn.Module):\n",
    "    def __init__(self, model):\n",
    "        super(DETROnnxWrapper, self).__init__()\n",
    "        self.model = model\n",
    "\n",
    "    def forward(self, x):\n",
    "        outputs = self.model(x)\n",
    "        # Extracting desired outputs (like 'pred_logits' and 'pred_boxes'). You can adjust as needed.\n",
    "        return outputs[\"pred_logits\"], outputs[\"pred_boxes\"]\n",
    "\n",
    "onnx_model = DETROnnxWrapper(model)\n",
    "\n",
    "torch.onnx.export(onnx_model, dummy_input, \"detr.onnx\", opset_version=11)\n"
   ]
  },
  {
   "cell_type": "code",
   "execution_count": null,
   "outputs": [],
   "source": [
    "import onnx\n",
    "\n",
    "onnx_model = onnx.load(\"detr.onnx\")\n",
    "onnx.checker.check_model(onnx_model)\n",
    "print(onnx.helper.printable_graph(onnx_model.graph))"
   ],
   "metadata": {
    "collapsed": false
   },
   "id": "a9e120b6a6fbae6a"
  }
 ],
 "metadata": {
  "kernelspec": {
   "display_name": "Python 3",
   "language": "python",
   "name": "python3"
  },
  "language_info": {
   "codemirror_mode": {
    "name": "ipython",
    "version": 2
   },
   "file_extension": ".py",
   "mimetype": "text/x-python",
   "name": "python",
   "nbconvert_exporter": "python",
   "pygments_lexer": "ipython2",
   "version": "2.7.6"
  }
 },
 "nbformat": 4,
 "nbformat_minor": 5
}
